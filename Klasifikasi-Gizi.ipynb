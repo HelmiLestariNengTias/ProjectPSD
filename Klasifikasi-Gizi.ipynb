{
 "cells": [
  {
   "cell_type": "code",
   "execution_count": 383,
   "id": "b4051a3f",
   "metadata": {},
   "outputs": [],
   "source": [
    "import numpy as np\n",
    "import pandas as pd\n",
    "\n",
    "from sklearn.preprocessing import StandardScaler\n",
    "from sklearn.model_selection import train_test_split\n"
   ]
  },
  {
   "cell_type": "code",
   "execution_count": 384,
   "id": "02d2cd98",
   "metadata": {},
   "outputs": [
    {
     "data": {
      "text/html": [
       "<div>\n",
       "<style scoped>\n",
       "    .dataframe tbody tr th:only-of-type {\n",
       "        vertical-align: middle;\n",
       "    }\n",
       "\n",
       "    .dataframe tbody tr th {\n",
       "        vertical-align: top;\n",
       "    }\n",
       "\n",
       "    .dataframe thead th {\n",
       "        text-align: right;\n",
       "    }\n",
       "</style>\n",
       "<table border=\"1\" class=\"dataframe\">\n",
       "  <thead>\n",
       "    <tr style=\"text-align: right;\">\n",
       "      <th></th>\n",
       "      <th>NO</th>\n",
       "      <th>NAMA_ANAK</th>\n",
       "      <th>JK</th>\n",
       "      <th>Usia</th>\n",
       "      <th>BB</th>\n",
       "      <th>TB</th>\n",
       "      <th>Stunting</th>\n",
       "    </tr>\n",
       "  </thead>\n",
       "  <tbody>\n",
       "    <tr>\n",
       "      <th>0</th>\n",
       "      <td>1</td>\n",
       "      <td>Nabila Hasna Amira</td>\n",
       "      <td>P</td>\n",
       "      <td>58</td>\n",
       "      <td>14.8</td>\n",
       "      <td>102.1</td>\n",
       "      <td>Normal</td>\n",
       "    </tr>\n",
       "    <tr>\n",
       "      <th>1</th>\n",
       "      <td>2</td>\n",
       "      <td>Marta Emi Masithoh</td>\n",
       "      <td>P</td>\n",
       "      <td>57</td>\n",
       "      <td>12.3</td>\n",
       "      <td>93.3</td>\n",
       "      <td>Normal</td>\n",
       "    </tr>\n",
       "    <tr>\n",
       "      <th>2</th>\n",
       "      <td>3</td>\n",
       "      <td>Nizama Kenzo Alvero</td>\n",
       "      <td>L</td>\n",
       "      <td>57</td>\n",
       "      <td>13.8</td>\n",
       "      <td>101.0</td>\n",
       "      <td>Normal</td>\n",
       "    </tr>\n",
       "    <tr>\n",
       "      <th>3</th>\n",
       "      <td>4</td>\n",
       "      <td>Haikal Cahya Wardana</td>\n",
       "      <td>L</td>\n",
       "      <td>57</td>\n",
       "      <td>14.8</td>\n",
       "      <td>102.3</td>\n",
       "      <td>Normal</td>\n",
       "    </tr>\n",
       "    <tr>\n",
       "      <th>4</th>\n",
       "      <td>5</td>\n",
       "      <td>Arsy Hilma Fadhila</td>\n",
       "      <td>P</td>\n",
       "      <td>59</td>\n",
       "      <td>14.1</td>\n",
       "      <td>97.5</td>\n",
       "      <td>Normal</td>\n",
       "    </tr>\n",
       "    <tr>\n",
       "      <th>...</th>\n",
       "      <td>...</td>\n",
       "      <td>...</td>\n",
       "      <td>...</td>\n",
       "      <td>...</td>\n",
       "      <td>...</td>\n",
       "      <td>...</td>\n",
       "      <td>...</td>\n",
       "    </tr>\n",
       "    <tr>\n",
       "      <th>186</th>\n",
       "      <td>187</td>\n",
       "      <td>Qurota Ayunindya S.</td>\n",
       "      <td>P</td>\n",
       "      <td>3</td>\n",
       "      <td>4.0</td>\n",
       "      <td>59.6</td>\n",
       "      <td>Normal</td>\n",
       "    </tr>\n",
       "    <tr>\n",
       "      <th>187</th>\n",
       "      <td>188</td>\n",
       "      <td>Lubna Alifia K.</td>\n",
       "      <td>P</td>\n",
       "      <td>3</td>\n",
       "      <td>3.7</td>\n",
       "      <td>55.1</td>\n",
       "      <td>Normal</td>\n",
       "    </tr>\n",
       "    <tr>\n",
       "      <th>188</th>\n",
       "      <td>189</td>\n",
       "      <td>Rayyanza Kenzie I.</td>\n",
       "      <td>L</td>\n",
       "      <td>1</td>\n",
       "      <td>3.5</td>\n",
       "      <td>54.5</td>\n",
       "      <td>Obesitas</td>\n",
       "    </tr>\n",
       "    <tr>\n",
       "      <th>189</th>\n",
       "      <td>190</td>\n",
       "      <td>Fazana Mayra R.</td>\n",
       "      <td>P</td>\n",
       "      <td>1</td>\n",
       "      <td>3.4</td>\n",
       "      <td>52.5</td>\n",
       "      <td>Obesitas</td>\n",
       "    </tr>\n",
       "    <tr>\n",
       "      <th>190</th>\n",
       "      <td>191</td>\n",
       "      <td>Vanya Afsheena R.</td>\n",
       "      <td>P</td>\n",
       "      <td>1</td>\n",
       "      <td>4.0</td>\n",
       "      <td>53.5</td>\n",
       "      <td>Obesitas</td>\n",
       "    </tr>\n",
       "  </tbody>\n",
       "</table>\n",
       "<p>191 rows × 7 columns</p>\n",
       "</div>"
      ],
      "text/plain": [
       "      NO             NAMA_ANAK JK  Usia    BB     TB  Stunting\n",
       "0      1    Nabila Hasna Amira  P    58  14.8  102.1    Normal\n",
       "1      2    Marta Emi Masithoh  P    57  12.3   93.3    Normal\n",
       "2      3   Nizama Kenzo Alvero  L    57  13.8  101.0    Normal\n",
       "3      4  Haikal Cahya Wardana  L    57  14.8  102.3    Normal\n",
       "4      5    Arsy Hilma Fadhila  P    59  14.1   97.5    Normal\n",
       "..   ...                   ... ..   ...   ...    ...       ...\n",
       "186  187   Qurota Ayunindya S.  P     3   4.0   59.6    Normal\n",
       "187  188       Lubna Alifia K.  P     3   3.7   55.1    Normal\n",
       "188  189    Rayyanza Kenzie I.  L     1   3.5   54.5  Obesitas\n",
       "189  190       Fazana Mayra R.  P     1   3.4   52.5  Obesitas\n",
       "190  191     Vanya Afsheena R.  P     1   4.0   53.5  Obesitas\n",
       "\n",
       "[191 rows x 7 columns]"
      ]
     },
     "execution_count": 384,
     "metadata": {},
     "output_type": "execute_result"
    }
   ],
   "source": [
    "df = pd.read_excel('DataBalita.xlsx')\n",
    "df"
   ]
  },
  {
   "cell_type": "code",
   "execution_count": 385,
   "id": "2927b186",
   "metadata": {},
   "outputs": [
    {
     "data": {
      "text/html": [
       "<div>\n",
       "<style scoped>\n",
       "    .dataframe tbody tr th:only-of-type {\n",
       "        vertical-align: middle;\n",
       "    }\n",
       "\n",
       "    .dataframe tbody tr th {\n",
       "        vertical-align: top;\n",
       "    }\n",
       "\n",
       "    .dataframe thead th {\n",
       "        text-align: right;\n",
       "    }\n",
       "</style>\n",
       "<table border=\"1\" class=\"dataframe\">\n",
       "  <thead>\n",
       "    <tr style=\"text-align: right;\">\n",
       "      <th></th>\n",
       "      <th>NO</th>\n",
       "      <th>NAMA_ANAK</th>\n",
       "      <th>JK</th>\n",
       "      <th>Usia</th>\n",
       "      <th>BB</th>\n",
       "      <th>TB</th>\n",
       "      <th>Stunting</th>\n",
       "    </tr>\n",
       "  </thead>\n",
       "  <tbody>\n",
       "    <tr>\n",
       "      <th>0</th>\n",
       "      <td>1</td>\n",
       "      <td>Nabila Hasna Amira</td>\n",
       "      <td>P</td>\n",
       "      <td>58</td>\n",
       "      <td>14.8</td>\n",
       "      <td>102.1</td>\n",
       "      <td>2</td>\n",
       "    </tr>\n",
       "    <tr>\n",
       "      <th>1</th>\n",
       "      <td>2</td>\n",
       "      <td>Marta Emi Masithoh</td>\n",
       "      <td>P</td>\n",
       "      <td>57</td>\n",
       "      <td>12.3</td>\n",
       "      <td>93.3</td>\n",
       "      <td>2</td>\n",
       "    </tr>\n",
       "    <tr>\n",
       "      <th>2</th>\n",
       "      <td>3</td>\n",
       "      <td>Nizama Kenzo Alvero</td>\n",
       "      <td>L</td>\n",
       "      <td>57</td>\n",
       "      <td>13.8</td>\n",
       "      <td>101.0</td>\n",
       "      <td>2</td>\n",
       "    </tr>\n",
       "    <tr>\n",
       "      <th>3</th>\n",
       "      <td>4</td>\n",
       "      <td>Haikal Cahya Wardana</td>\n",
       "      <td>L</td>\n",
       "      <td>57</td>\n",
       "      <td>14.8</td>\n",
       "      <td>102.3</td>\n",
       "      <td>2</td>\n",
       "    </tr>\n",
       "    <tr>\n",
       "      <th>4</th>\n",
       "      <td>5</td>\n",
       "      <td>Arsy Hilma Fadhila</td>\n",
       "      <td>P</td>\n",
       "      <td>59</td>\n",
       "      <td>14.1</td>\n",
       "      <td>97.5</td>\n",
       "      <td>2</td>\n",
       "    </tr>\n",
       "    <tr>\n",
       "      <th>5</th>\n",
       "      <td>6</td>\n",
       "      <td>Fano Irwansyah</td>\n",
       "      <td>L</td>\n",
       "      <td>59</td>\n",
       "      <td>16.1</td>\n",
       "      <td>92.1</td>\n",
       "      <td>2</td>\n",
       "    </tr>\n",
       "    <tr>\n",
       "      <th>6</th>\n",
       "      <td>7</td>\n",
       "      <td>Alvin Zaidan Syafiulla</td>\n",
       "      <td>L</td>\n",
       "      <td>59</td>\n",
       "      <td>13.0</td>\n",
       "      <td>93.3</td>\n",
       "      <td>2</td>\n",
       "    </tr>\n",
       "    <tr>\n",
       "      <th>7</th>\n",
       "      <td>8</td>\n",
       "      <td>Naura Shafa Azizah</td>\n",
       "      <td>P</td>\n",
       "      <td>59</td>\n",
       "      <td>10.1</td>\n",
       "      <td>88.3</td>\n",
       "      <td>2</td>\n",
       "    </tr>\n",
       "    <tr>\n",
       "      <th>8</th>\n",
       "      <td>9</td>\n",
       "      <td>Muhammad Ali Al-Furqon</td>\n",
       "      <td>L</td>\n",
       "      <td>58</td>\n",
       "      <td>12.9</td>\n",
       "      <td>95.1</td>\n",
       "      <td>2</td>\n",
       "    </tr>\n",
       "    <tr>\n",
       "      <th>9</th>\n",
       "      <td>10</td>\n",
       "      <td>Muamar Hafiz Ramadhani</td>\n",
       "      <td>L</td>\n",
       "      <td>58</td>\n",
       "      <td>14.1</td>\n",
       "      <td>94.5</td>\n",
       "      <td>2</td>\n",
       "    </tr>\n",
       "  </tbody>\n",
       "</table>\n",
       "</div>"
      ],
      "text/plain": [
       "   NO               NAMA_ANAK JK  Usia    BB     TB  Stunting\n",
       "0   1      Nabila Hasna Amira  P    58  14.8  102.1         2\n",
       "1   2      Marta Emi Masithoh  P    57  12.3   93.3         2\n",
       "2   3     Nizama Kenzo Alvero  L    57  13.8  101.0         2\n",
       "3   4    Haikal Cahya Wardana  L    57  14.8  102.3         2\n",
       "4   5      Arsy Hilma Fadhila  P    59  14.1   97.5         2\n",
       "5   6          Fano Irwansyah  L    59  16.1   92.1         2\n",
       "6   7  Alvin Zaidan Syafiulla  L    59  13.0   93.3         2\n",
       "7   8      Naura Shafa Azizah  P    59  10.1   88.3         2\n",
       "8   9  Muhammad Ali Al-Furqon  L    58  12.9   95.1         2\n",
       "9  10  Muamar Hafiz Ramadhani  L    58  14.1   94.5         2"
      ]
     },
     "execution_count": 385,
     "metadata": {},
     "output_type": "execute_result"
    }
   ],
   "source": [
    "df = df.replace ([\"Gizi Buruk\"], 0)\n",
    "df = df.replace ([\"Gizi Kurang\"], 1)\n",
    "df = df.replace ([\"Normal\"], 2)\n",
    "df = df.replace ([\"Obesitas\"], 3)\n",
    "df.head(10)"
   ]
  },
  {
   "cell_type": "code",
   "execution_count": 386,
   "id": "fcdb1f69",
   "metadata": {},
   "outputs": [
    {
     "data": {
      "text/html": [
       "<div>\n",
       "<style scoped>\n",
       "    .dataframe tbody tr th:only-of-type {\n",
       "        vertical-align: middle;\n",
       "    }\n",
       "\n",
       "    .dataframe tbody tr th {\n",
       "        vertical-align: top;\n",
       "    }\n",
       "\n",
       "    .dataframe thead th {\n",
       "        text-align: right;\n",
       "    }\n",
       "</style>\n",
       "<table border=\"1\" class=\"dataframe\">\n",
       "  <thead>\n",
       "    <tr style=\"text-align: right;\">\n",
       "      <th></th>\n",
       "      <th>NO</th>\n",
       "      <th>NAMA_ANAK</th>\n",
       "      <th>JK</th>\n",
       "      <th>Usia</th>\n",
       "      <th>BB</th>\n",
       "      <th>TB</th>\n",
       "      <th>Stunting</th>\n",
       "    </tr>\n",
       "  </thead>\n",
       "  <tbody>\n",
       "    <tr>\n",
       "      <th>0</th>\n",
       "      <td>1</td>\n",
       "      <td>Nabila Hasna Amira</td>\n",
       "      <td>0</td>\n",
       "      <td>58</td>\n",
       "      <td>14.8</td>\n",
       "      <td>102.1</td>\n",
       "      <td>2</td>\n",
       "    </tr>\n",
       "    <tr>\n",
       "      <th>1</th>\n",
       "      <td>2</td>\n",
       "      <td>Marta Emi Masithoh</td>\n",
       "      <td>0</td>\n",
       "      <td>57</td>\n",
       "      <td>12.3</td>\n",
       "      <td>93.3</td>\n",
       "      <td>2</td>\n",
       "    </tr>\n",
       "    <tr>\n",
       "      <th>2</th>\n",
       "      <td>3</td>\n",
       "      <td>Nizama Kenzo Alvero</td>\n",
       "      <td>1</td>\n",
       "      <td>57</td>\n",
       "      <td>13.8</td>\n",
       "      <td>101.0</td>\n",
       "      <td>2</td>\n",
       "    </tr>\n",
       "    <tr>\n",
       "      <th>3</th>\n",
       "      <td>4</td>\n",
       "      <td>Haikal Cahya Wardana</td>\n",
       "      <td>1</td>\n",
       "      <td>57</td>\n",
       "      <td>14.8</td>\n",
       "      <td>102.3</td>\n",
       "      <td>2</td>\n",
       "    </tr>\n",
       "    <tr>\n",
       "      <th>4</th>\n",
       "      <td>5</td>\n",
       "      <td>Arsy Hilma Fadhila</td>\n",
       "      <td>0</td>\n",
       "      <td>59</td>\n",
       "      <td>14.1</td>\n",
       "      <td>97.5</td>\n",
       "      <td>2</td>\n",
       "    </tr>\n",
       "    <tr>\n",
       "      <th>5</th>\n",
       "      <td>6</td>\n",
       "      <td>Fano Irwansyah</td>\n",
       "      <td>1</td>\n",
       "      <td>59</td>\n",
       "      <td>16.1</td>\n",
       "      <td>92.1</td>\n",
       "      <td>2</td>\n",
       "    </tr>\n",
       "    <tr>\n",
       "      <th>6</th>\n",
       "      <td>7</td>\n",
       "      <td>Alvin Zaidan Syafiulla</td>\n",
       "      <td>1</td>\n",
       "      <td>59</td>\n",
       "      <td>13.0</td>\n",
       "      <td>93.3</td>\n",
       "      <td>2</td>\n",
       "    </tr>\n",
       "    <tr>\n",
       "      <th>7</th>\n",
       "      <td>8</td>\n",
       "      <td>Naura Shafa Azizah</td>\n",
       "      <td>0</td>\n",
       "      <td>59</td>\n",
       "      <td>10.1</td>\n",
       "      <td>88.3</td>\n",
       "      <td>2</td>\n",
       "    </tr>\n",
       "    <tr>\n",
       "      <th>8</th>\n",
       "      <td>9</td>\n",
       "      <td>Muhammad Ali Al-Furqon</td>\n",
       "      <td>1</td>\n",
       "      <td>58</td>\n",
       "      <td>12.9</td>\n",
       "      <td>95.1</td>\n",
       "      <td>2</td>\n",
       "    </tr>\n",
       "    <tr>\n",
       "      <th>9</th>\n",
       "      <td>10</td>\n",
       "      <td>Muamar Hafiz Ramadhani</td>\n",
       "      <td>1</td>\n",
       "      <td>58</td>\n",
       "      <td>14.1</td>\n",
       "      <td>94.5</td>\n",
       "      <td>2</td>\n",
       "    </tr>\n",
       "    <tr>\n",
       "      <th>10</th>\n",
       "      <td>11</td>\n",
       "      <td>Handika Putra Hafiz N</td>\n",
       "      <td>1</td>\n",
       "      <td>58</td>\n",
       "      <td>12.0</td>\n",
       "      <td>94.4</td>\n",
       "      <td>2</td>\n",
       "    </tr>\n",
       "    <tr>\n",
       "      <th>11</th>\n",
       "      <td>12</td>\n",
       "      <td>Andika Pratama</td>\n",
       "      <td>1</td>\n",
       "      <td>57</td>\n",
       "      <td>16.2</td>\n",
       "      <td>97.9</td>\n",
       "      <td>2</td>\n",
       "    </tr>\n",
       "    <tr>\n",
       "      <th>12</th>\n",
       "      <td>13</td>\n",
       "      <td>Aditya Zainul Muttaqin</td>\n",
       "      <td>1</td>\n",
       "      <td>55</td>\n",
       "      <td>14.9</td>\n",
       "      <td>95.6</td>\n",
       "      <td>2</td>\n",
       "    </tr>\n",
       "    <tr>\n",
       "      <th>13</th>\n",
       "      <td>14</td>\n",
       "      <td>Ernest Funky Oktaryan .P</td>\n",
       "      <td>1</td>\n",
       "      <td>54</td>\n",
       "      <td>11.7</td>\n",
       "      <td>88.4</td>\n",
       "      <td>2</td>\n",
       "    </tr>\n",
       "    <tr>\n",
       "      <th>14</th>\n",
       "      <td>15</td>\n",
       "      <td>Alvino Dwi Saputra</td>\n",
       "      <td>1</td>\n",
       "      <td>55</td>\n",
       "      <td>13.6</td>\n",
       "      <td>89.7</td>\n",
       "      <td>2</td>\n",
       "    </tr>\n",
       "    <tr>\n",
       "      <th>15</th>\n",
       "      <td>16</td>\n",
       "      <td>Khalifa Azzahra Jailani</td>\n",
       "      <td>0</td>\n",
       "      <td>50</td>\n",
       "      <td>12.3</td>\n",
       "      <td>91.2</td>\n",
       "      <td>2</td>\n",
       "    </tr>\n",
       "    <tr>\n",
       "      <th>16</th>\n",
       "      <td>17</td>\n",
       "      <td>Fernando Ahmad Rifai</td>\n",
       "      <td>1</td>\n",
       "      <td>50</td>\n",
       "      <td>11.8</td>\n",
       "      <td>91.3</td>\n",
       "      <td>2</td>\n",
       "    </tr>\n",
       "    <tr>\n",
       "      <th>17</th>\n",
       "      <td>18</td>\n",
       "      <td>Arshaka Aldhien Andani</td>\n",
       "      <td>1</td>\n",
       "      <td>49</td>\n",
       "      <td>22.7</td>\n",
       "      <td>103.1</td>\n",
       "      <td>2</td>\n",
       "    </tr>\n",
       "    <tr>\n",
       "      <th>18</th>\n",
       "      <td>19</td>\n",
       "      <td>Aletta Khasandra Setiawan</td>\n",
       "      <td>0</td>\n",
       "      <td>44</td>\n",
       "      <td>11.8</td>\n",
       "      <td>85.1</td>\n",
       "      <td>2</td>\n",
       "    </tr>\n",
       "    <tr>\n",
       "      <th>19</th>\n",
       "      <td>20</td>\n",
       "      <td>Ifa Nur Hafidzah Mu'isdzah.K</td>\n",
       "      <td>0</td>\n",
       "      <td>47</td>\n",
       "      <td>14.9</td>\n",
       "      <td>97.8</td>\n",
       "      <td>2</td>\n",
       "    </tr>\n",
       "  </tbody>\n",
       "</table>\n",
       "</div>"
      ],
      "text/plain": [
       "    NO                     NAMA_ANAK  JK  Usia    BB     TB  Stunting\n",
       "0    1            Nabila Hasna Amira   0    58  14.8  102.1         2\n",
       "1    2            Marta Emi Masithoh   0    57  12.3   93.3         2\n",
       "2    3           Nizama Kenzo Alvero   1    57  13.8  101.0         2\n",
       "3    4          Haikal Cahya Wardana   1    57  14.8  102.3         2\n",
       "4    5            Arsy Hilma Fadhila   0    59  14.1   97.5         2\n",
       "5    6                Fano Irwansyah   1    59  16.1   92.1         2\n",
       "6    7        Alvin Zaidan Syafiulla   1    59  13.0   93.3         2\n",
       "7    8            Naura Shafa Azizah   0    59  10.1   88.3         2\n",
       "8    9        Muhammad Ali Al-Furqon   1    58  12.9   95.1         2\n",
       "9   10        Muamar Hafiz Ramadhani   1    58  14.1   94.5         2\n",
       "10  11         Handika Putra Hafiz N   1    58  12.0   94.4         2\n",
       "11  12                Andika Pratama   1    57  16.2   97.9         2\n",
       "12  13        Aditya Zainul Muttaqin   1    55  14.9   95.6         2\n",
       "13  14      Ernest Funky Oktaryan .P   1    54  11.7   88.4         2\n",
       "14  15            Alvino Dwi Saputra   1    55  13.6   89.7         2\n",
       "15  16       Khalifa Azzahra Jailani   0    50  12.3   91.2         2\n",
       "16  17          Fernando Ahmad Rifai   1    50  11.8   91.3         2\n",
       "17  18        Arshaka Aldhien Andani   1    49  22.7  103.1         2\n",
       "18  19     Aletta Khasandra Setiawan   0    44  11.8   85.1         2\n",
       "19  20  Ifa Nur Hafidzah Mu'isdzah.K   0    47  14.9   97.8         2"
      ]
     },
     "execution_count": 386,
     "metadata": {},
     "output_type": "execute_result"
    }
   ],
   "source": [
    "df = df.replace ([\"P\"], 0)\n",
    "df = df.replace ([\"L\"], 1)\n",
    "df.head(20)"
   ]
  },
  {
   "cell_type": "code",
   "execution_count": 387,
   "id": "b869eff2",
   "metadata": {},
   "outputs": [],
   "source": [
    "df = df.drop(\"NAMA_ANAK\", axis=1); axis=1"
   ]
  },
  {
   "cell_type": "code",
   "execution_count": 388,
   "id": "7f20cea0",
   "metadata": {},
   "outputs": [
    {
     "data": {
      "text/plain": [
       "(191, 6)"
      ]
     },
     "execution_count": 388,
     "metadata": {},
     "output_type": "execute_result"
    }
   ],
   "source": [
    "df.shape"
   ]
  },
  {
   "cell_type": "code",
   "execution_count": 389,
   "id": "3dd79d0c",
   "metadata": {},
   "outputs": [
    {
     "data": {
      "text/plain": [
       "NO            int64\n",
       "JK            int64\n",
       "Usia          int64\n",
       "BB          float64\n",
       "TB          float64\n",
       "Stunting      int64\n",
       "dtype: object"
      ]
     },
     "execution_count": 389,
     "metadata": {},
     "output_type": "execute_result"
    }
   ],
   "source": [
    "df.dtypes"
   ]
  },
  {
   "cell_type": "code",
   "execution_count": 390,
   "id": "982c1acc",
   "metadata": {},
   "outputs": [
    {
     "name": "stdout",
     "output_type": "stream",
     "text": [
      "<class 'pandas.core.frame.DataFrame'>\n",
      "RangeIndex: 191 entries, 0 to 190\n",
      "Data columns (total 6 columns):\n",
      " #   Column    Non-Null Count  Dtype  \n",
      "---  ------    --------------  -----  \n",
      " 0   NO        191 non-null    int64  \n",
      " 1   JK        191 non-null    int64  \n",
      " 2   Usia      191 non-null    int64  \n",
      " 3   BB        191 non-null    float64\n",
      " 4   TB        191 non-null    float64\n",
      " 5   Stunting  191 non-null    int64  \n",
      "dtypes: float64(2), int64(4)\n",
      "memory usage: 9.1 KB\n"
     ]
    }
   ],
   "source": [
    "df.info()"
   ]
  },
  {
   "cell_type": "code",
   "execution_count": 391,
   "id": "7c9f05cd",
   "metadata": {},
   "outputs": [],
   "source": [
    "df[\"JK\"] = df[\"JK\"].astype(\"float\")"
   ]
  },
  {
   "cell_type": "code",
   "execution_count": 392,
   "id": "c69463ce",
   "metadata": {},
   "outputs": [],
   "source": [
    "df[\"Stunting\"] = df[\"Stunting\"].astype(\"float\")"
   ]
  },
  {
   "cell_type": "code",
   "execution_count": 393,
   "id": "c042c7f1",
   "metadata": {},
   "outputs": [],
   "source": [
    "df[\"Usia\"] = df[\"Usia\"].astype(\"float\")"
   ]
  },
  {
   "cell_type": "code",
   "execution_count": 394,
   "id": "fbbaef6d",
   "metadata": {},
   "outputs": [
    {
     "name": "stdout",
     "output_type": "stream",
     "text": [
      "<class 'pandas.core.frame.DataFrame'>\n",
      "RangeIndex: 191 entries, 0 to 190\n",
      "Data columns (total 6 columns):\n",
      " #   Column    Non-Null Count  Dtype  \n",
      "---  ------    --------------  -----  \n",
      " 0   NO        191 non-null    int64  \n",
      " 1   JK        191 non-null    float64\n",
      " 2   Usia      191 non-null    float64\n",
      " 3   BB        191 non-null    float64\n",
      " 4   TB        191 non-null    float64\n",
      " 5   Stunting  191 non-null    float64\n",
      "dtypes: float64(5), int64(1)\n",
      "memory usage: 9.1 KB\n"
     ]
    }
   ],
   "source": [
    "df.info()"
   ]
  },
  {
   "cell_type": "code",
   "execution_count": 395,
   "id": "32590caf",
   "metadata": {},
   "outputs": [],
   "source": [
    "df = df.drop(\"NO\", axis=1); axis=1"
   ]
  },
  {
   "cell_type": "code",
   "execution_count": 396,
   "id": "cbb1fd9b",
   "metadata": {},
   "outputs": [
    {
     "data": {
      "text/plain": [
       "<bound method NDFrame.describe of       JK  Usia    BB     TB  Stunting\n",
       "0    0.0  58.0  14.8  102.1       2.0\n",
       "1    0.0  57.0  12.3   93.3       2.0\n",
       "2    1.0  57.0  13.8  101.0       2.0\n",
       "3    1.0  57.0  14.8  102.3       2.0\n",
       "4    0.0  59.0  14.1   97.5       2.0\n",
       "..   ...   ...   ...    ...       ...\n",
       "186  0.0   3.0   4.0   59.6       2.0\n",
       "187  0.0   3.0   3.7   55.1       2.0\n",
       "188  1.0   1.0   3.5   54.5       3.0\n",
       "189  0.0   1.0   3.4   52.5       3.0\n",
       "190  0.0   1.0   4.0   53.5       3.0\n",
       "\n",
       "[191 rows x 5 columns]>"
      ]
     },
     "execution_count": 396,
     "metadata": {},
     "output_type": "execute_result"
    }
   ],
   "source": [
    "df.describe"
   ]
  },
  {
   "cell_type": "code",
   "execution_count": 397,
   "id": "fa74082c",
   "metadata": {},
   "outputs": [],
   "source": [
    "import matplotlib.pyplot as plt \n",
    "import seaborn as sns \n",
    "%matplotlib inline "
   ]
  },
  {
   "cell_type": "code",
   "execution_count": 398,
   "id": "f24afd3b",
   "metadata": {},
   "outputs": [
    {
     "data": {
      "text/html": [
       "<div>\n",
       "<style scoped>\n",
       "    .dataframe tbody tr th:only-of-type {\n",
       "        vertical-align: middle;\n",
       "    }\n",
       "\n",
       "    .dataframe tbody tr th {\n",
       "        vertical-align: top;\n",
       "    }\n",
       "\n",
       "    .dataframe thead th {\n",
       "        text-align: right;\n",
       "    }\n",
       "</style>\n",
       "<table border=\"1\" class=\"dataframe\">\n",
       "  <thead>\n",
       "    <tr style=\"text-align: right;\">\n",
       "      <th></th>\n",
       "      <th>JK</th>\n",
       "      <th>Usia</th>\n",
       "      <th>BB</th>\n",
       "      <th>TB</th>\n",
       "    </tr>\n",
       "  </thead>\n",
       "  <tbody>\n",
       "    <tr>\n",
       "      <th>0</th>\n",
       "      <td>0.0</td>\n",
       "      <td>58.0</td>\n",
       "      <td>14.8</td>\n",
       "      <td>102.1</td>\n",
       "    </tr>\n",
       "    <tr>\n",
       "      <th>1</th>\n",
       "      <td>0.0</td>\n",
       "      <td>57.0</td>\n",
       "      <td>12.3</td>\n",
       "      <td>93.3</td>\n",
       "    </tr>\n",
       "    <tr>\n",
       "      <th>2</th>\n",
       "      <td>1.0</td>\n",
       "      <td>57.0</td>\n",
       "      <td>13.8</td>\n",
       "      <td>101.0</td>\n",
       "    </tr>\n",
       "    <tr>\n",
       "      <th>3</th>\n",
       "      <td>1.0</td>\n",
       "      <td>57.0</td>\n",
       "      <td>14.8</td>\n",
       "      <td>102.3</td>\n",
       "    </tr>\n",
       "    <tr>\n",
       "      <th>4</th>\n",
       "      <td>0.0</td>\n",
       "      <td>59.0</td>\n",
       "      <td>14.1</td>\n",
       "      <td>97.5</td>\n",
       "    </tr>\n",
       "  </tbody>\n",
       "</table>\n",
       "</div>"
      ],
      "text/plain": [
       "    JK  Usia    BB     TB\n",
       "0  0.0  58.0  14.8  102.1\n",
       "1  0.0  57.0  12.3   93.3\n",
       "2  1.0  57.0  13.8  101.0\n",
       "3  1.0  57.0  14.8  102.3\n",
       "4  0.0  59.0  14.1   97.5"
      ]
     },
     "execution_count": 398,
     "metadata": {},
     "output_type": "execute_result"
    }
   ],
   "source": [
    "X = df.drop(columns='Stunting') \n",
    "X.head()"
   ]
  },
  {
   "cell_type": "code",
   "execution_count": 399,
   "id": "2371cbda",
   "metadata": {},
   "outputs": [
    {
     "data": {
      "text/plain": [
       "0    2.0\n",
       "1    2.0\n",
       "2    2.0\n",
       "3    2.0\n",
       "4    2.0\n",
       "Name: Stunting, dtype: float64"
      ]
     },
     "execution_count": 399,
     "metadata": {},
     "output_type": "execute_result"
    }
   ],
   "source": [
    "y = df['Stunting']\n",
    "y.head()"
   ]
  },
  {
   "cell_type": "code",
   "execution_count": 400,
   "id": "0c8d6d34",
   "metadata": {},
   "outputs": [],
   "source": [
    "scaler = StandardScaler()"
   ]
  },
  {
   "cell_type": "code",
   "execution_count": 401,
   "id": "5ebf544f",
   "metadata": {},
   "outputs": [
    {
     "data": {
      "text/html": [
       "<style>#sk-container-id-8 {color: black;background-color: white;}#sk-container-id-8 pre{padding: 0;}#sk-container-id-8 div.sk-toggleable {background-color: white;}#sk-container-id-8 label.sk-toggleable__label {cursor: pointer;display: block;width: 100%;margin-bottom: 0;padding: 0.3em;box-sizing: border-box;text-align: center;}#sk-container-id-8 label.sk-toggleable__label-arrow:before {content: \"▸\";float: left;margin-right: 0.25em;color: #696969;}#sk-container-id-8 label.sk-toggleable__label-arrow:hover:before {color: black;}#sk-container-id-8 div.sk-estimator:hover label.sk-toggleable__label-arrow:before {color: black;}#sk-container-id-8 div.sk-toggleable__content {max-height: 0;max-width: 0;overflow: hidden;text-align: left;background-color: #f0f8ff;}#sk-container-id-8 div.sk-toggleable__content pre {margin: 0.2em;color: black;border-radius: 0.25em;background-color: #f0f8ff;}#sk-container-id-8 input.sk-toggleable__control:checked~div.sk-toggleable__content {max-height: 200px;max-width: 100%;overflow: auto;}#sk-container-id-8 input.sk-toggleable__control:checked~label.sk-toggleable__label-arrow:before {content: \"▾\";}#sk-container-id-8 div.sk-estimator input.sk-toggleable__control:checked~label.sk-toggleable__label {background-color: #d4ebff;}#sk-container-id-8 div.sk-label input.sk-toggleable__control:checked~label.sk-toggleable__label {background-color: #d4ebff;}#sk-container-id-8 input.sk-hidden--visually {border: 0;clip: rect(1px 1px 1px 1px);clip: rect(1px, 1px, 1px, 1px);height: 1px;margin: -1px;overflow: hidden;padding: 0;position: absolute;width: 1px;}#sk-container-id-8 div.sk-estimator {font-family: monospace;background-color: #f0f8ff;border: 1px dotted black;border-radius: 0.25em;box-sizing: border-box;margin-bottom: 0.5em;}#sk-container-id-8 div.sk-estimator:hover {background-color: #d4ebff;}#sk-container-id-8 div.sk-parallel-item::after {content: \"\";width: 100%;border-bottom: 1px solid gray;flex-grow: 1;}#sk-container-id-8 div.sk-label:hover label.sk-toggleable__label {background-color: #d4ebff;}#sk-container-id-8 div.sk-serial::before {content: \"\";position: absolute;border-left: 1px solid gray;box-sizing: border-box;top: 0;bottom: 0;left: 50%;z-index: 0;}#sk-container-id-8 div.sk-serial {display: flex;flex-direction: column;align-items: center;background-color: white;padding-right: 0.2em;padding-left: 0.2em;position: relative;}#sk-container-id-8 div.sk-item {position: relative;z-index: 1;}#sk-container-id-8 div.sk-parallel {display: flex;align-items: stretch;justify-content: center;background-color: white;position: relative;}#sk-container-id-8 div.sk-item::before, #sk-container-id-8 div.sk-parallel-item::before {content: \"\";position: absolute;border-left: 1px solid gray;box-sizing: border-box;top: 0;bottom: 0;left: 50%;z-index: -1;}#sk-container-id-8 div.sk-parallel-item {display: flex;flex-direction: column;z-index: 1;position: relative;background-color: white;}#sk-container-id-8 div.sk-parallel-item:first-child::after {align-self: flex-end;width: 50%;}#sk-container-id-8 div.sk-parallel-item:last-child::after {align-self: flex-start;width: 50%;}#sk-container-id-8 div.sk-parallel-item:only-child::after {width: 0;}#sk-container-id-8 div.sk-dashed-wrapped {border: 1px dashed gray;margin: 0 0.4em 0.5em 0.4em;box-sizing: border-box;padding-bottom: 0.4em;background-color: white;}#sk-container-id-8 div.sk-label label {font-family: monospace;font-weight: bold;display: inline-block;line-height: 1.2em;}#sk-container-id-8 div.sk-label-container {text-align: center;}#sk-container-id-8 div.sk-container {/* jupyter's `normalize.less` sets `[hidden] { display: none; }` but bootstrap.min.css set `[hidden] { display: none !important; }` so we also need the `!important` here to be able to override the default hidden behavior on the sphinx rendered scikit-learn.org. See: https://github.com/scikit-learn/scikit-learn/issues/21755 */display: inline-block !important;position: relative;}#sk-container-id-8 div.sk-text-repr-fallback {display: none;}</style><div id=\"sk-container-id-8\" class=\"sk-top-container\"><div class=\"sk-text-repr-fallback\"><pre>StandardScaler()</pre><b>In a Jupyter environment, please rerun this cell to show the HTML representation or trust the notebook. <br />On GitHub, the HTML representation is unable to render, please try loading this page with nbviewer.org.</b></div><div class=\"sk-container\" hidden><div class=\"sk-item\"><div class=\"sk-estimator sk-toggleable\"><input class=\"sk-toggleable__control sk-hidden--visually\" id=\"sk-estimator-id-8\" type=\"checkbox\" checked><label for=\"sk-estimator-id-8\" class=\"sk-toggleable__label sk-toggleable__label-arrow\">StandardScaler</label><div class=\"sk-toggleable__content\"><pre>StandardScaler()</pre></div></div></div></div></div>"
      ],
      "text/plain": [
       "StandardScaler()"
      ]
     },
     "execution_count": 401,
     "metadata": {},
     "output_type": "execute_result"
    }
   ],
   "source": [
    "scaler.fit(X)"
   ]
  },
  {
   "cell_type": "code",
   "execution_count": 402,
   "id": "c90d341b",
   "metadata": {},
   "outputs": [],
   "source": [
    "standarized_data = scaler.transform(X)"
   ]
  },
  {
   "cell_type": "code",
   "execution_count": 403,
   "id": "ad91bd8c",
   "metadata": {},
   "outputs": [
    {
     "name": "stdout",
     "output_type": "stream",
     "text": [
      "[[-0.96399841  1.50832428  0.59315841  1.06900234]\n",
      " [-0.96399841  1.44968598  0.03351972  0.45014888]\n",
      " [ 1.03734611  1.44968598  0.36930294  0.99164566]\n",
      " [ 1.03734611  1.44968598  0.59315841  1.0830672 ]\n",
      " [-0.96399841  1.56696257  0.43645958  0.74551076]\n",
      " [ 1.03734611  1.56696257  0.88417053  0.36575977]\n",
      " [ 1.03734611  1.56696257  0.19021855  0.45014888]\n",
      " [-0.96399841  1.56696257 -0.45896233  0.0985276 ]\n",
      " [ 1.03734611  1.50832428  0.16783301  0.57673255]\n",
      " [ 1.03734611  1.50832428  0.43645958  0.53453799]\n",
      " [ 1.03734611  1.50832428 -0.03363692  0.52750557]\n",
      " [ 1.03734611  1.44968598  0.90655608  0.77364046]\n",
      " [ 1.03734611  1.3324094   0.61554396  0.61189467]\n",
      " [ 1.03734611  1.2737711  -0.10079357  0.10556002]\n",
      " [ 1.03734611  1.3324094   0.32453184  0.19698156]\n",
      " [-0.96399841  1.03921793  0.03351972  0.30246794]\n",
      " [ 1.03734611  1.03921793 -0.07840802  0.30950037]\n",
      " [ 1.03734611  0.98057963  2.36161669  1.1393266 ]\n",
      " [-0.96399841  0.68738816 -0.07840802 -0.12651002]\n",
      " [-0.96399841  0.86330305  0.61554396  0.76660804]\n",
      " [ 1.03734611  0.80466475  0.2573752   0.53453799]\n",
      " [ 1.03734611  0.80466475  0.2126041   0.75957561]\n",
      " [ 1.03734611  0.80466475  0.7274717   1.01977536]\n",
      " [-0.96399841  0.3941967  -0.36942014 -0.28825582]\n",
      " [-0.96399841  0.62874987 -0.05602247  0.35872735]\n",
      " [ 1.03734611  0.57011158  0.12306191  0.56266769]\n",
      " [-0.96399841  0.57011158 -0.05602247  0.47124616]\n",
      " [-0.96399841  0.57011158  0.52600177  0.91428898]\n",
      " [-0.96399841  0.27692011 -0.43657678 -0.49922859]\n",
      " [ 1.03734611  0.51147328  0.27976075  0.65408923]\n",
      " [-0.96399841  0.27692011 -0.54850452 -0.29528824]\n",
      " [ 1.03734611  0.45283499  0.32453184  0.62595953]\n",
      " [ 1.03734611  0.45283499  0.07829082  0.47124616]\n",
      " [ 1.03734611  0.45283499  0.23498965  0.63299195]\n",
      " [ 1.03734611  0.21828182 -0.12317911  0.3446625 ]\n",
      " [-0.96399841  0.15964352 -0.57089007 -0.04212092]\n",
      " [ 1.03734611  0.10100523 -0.01125137  0.45718131]\n",
      " [-0.96399841  0.04236693 -0.54850452 -0.27419096]\n",
      " [ 1.03734611 -0.01627136 -0.01125137  0.24620854]\n",
      " [-0.96399841 -0.07490965 -0.32464904 -0.1476073 ]\n",
      " [ 1.03734611 -0.13354795  1.10802601  0.56266769]\n",
      " [-0.96399841 -0.13354795 -0.3022635   0.17588428]\n",
      " [-0.96399841 -0.42673941 -0.39180569 -0.3374828 ]\n",
      " [ 1.03734611 -0.19218624  0.03351972  0.24620854]\n",
      " [-0.96399841 -0.25082453 -0.43657678 -0.16167215]\n",
      " [ 1.03734611 -0.25082453 -0.41419123 -0.26012611]\n",
      " [ 1.03734611 -0.30946283 -0.27987795  0.04226819]\n",
      " [ 1.03734611 -0.30946283 -0.10079357  0.09149517]\n",
      " [ 1.03734611 -0.42673941 -0.2574924  -0.09838032]\n",
      " [ 1.03734611 -0.48537771 -0.66043226 -0.31638552]\n",
      " [ 1.03734611 -0.48537771 -0.66043226 -0.31638552]\n",
      " [-0.96399841 -0.6026543  -0.79474555 -0.52735829]\n",
      " [ 1.03734611 -0.66129259 -0.79474555 -0.63284468]\n",
      " [-0.96399841 -0.66129259 -0.63804671 -0.68910408]\n",
      " [-0.96399841 -0.66129259 -0.57089007 -0.54142314]\n",
      " [ 1.03734611 -0.95448406 -1.10814321 -1.29389269]\n",
      " [-0.96399841 -0.95448406 -0.90667328 -0.98446596]\n",
      " [ 1.03734611 -0.95448406 -0.45896233 -0.70316893]\n",
      " [-0.96399841 -0.95448406 -0.97382993 -0.98446596]\n",
      " [-0.96399841 -1.01312235 -0.66043226 -0.83678502]\n",
      " [-0.96399841 -1.07176064 -0.79474555 -0.87194715]\n",
      " [ 1.03734611 -1.13039894 -0.61566116 -1.07588749]\n",
      " [-0.96399841 -1.13039894 -1.15291431 -1.25873056]\n",
      " [-0.96399841 -1.30631382 -0.95144438 -0.99853081]\n",
      " [ 1.03734611 -1.30631382 -0.81713109 -1.33608725]\n",
      " [ 1.03734611 -1.42359041 -0.97382993 -1.38531422]\n",
      " [ 1.03734611 -1.4822287  -1.1976854  -1.4345412 ]\n",
      " [ 1.03734611 -1.4822287  -0.90667328 -1.57518972]\n",
      " [ 1.03734611 -1.54086699 -1.17529986 -1.65957883]\n",
      " [-0.96399841 -1.54086699 -1.33199869 -1.68770853]\n",
      " [-0.96399841 -1.65814358 -1.51108307 -1.75100036]\n",
      " [ 1.03734611 -1.65814358 -1.26484205 -1.46970333]\n",
      " [-0.96399841 -1.77542017 -1.46631198 -2.24327016]\n",
      " [-0.96399841 -1.77542017 -1.80209519 -2.52456719]\n",
      " [-0.96399841  1.44968598  1.53335142  1.77224491]\n",
      " [-0.96399841  1.44968598  1.01848382  1.49094789]\n",
      " [-0.96399841  1.3324094   1.35426704  1.66675853]\n",
      " [-0.96399841  1.62560086  1.17518266  1.84256917]\n",
      " [ 1.03734611  1.03921793  1.13041156  1.22371571]\n",
      " [-0.96399841  0.86330305  1.08564046  1.06196992]\n",
      " [-0.96399841  0.68738816  1.2423393   1.07603477]\n",
      " [-0.96399841  0.62874987  0.97371273  0.79473774]\n",
      " [-0.96399841  0.62874987  3.10033976  0.46421373]\n",
      " [ 1.03734611  0.57011158  3.50327962  0.85802957]\n",
      " [-0.96399841  0.57011158  3.54805072  0.67518651]\n",
      " [ 1.03734611  0.45283499  0.63792951  0.52750557]\n",
      " [-0.96399841  0.45283499  0.03351972  0.50640829]\n",
      " [ 1.03734611  0.3941967  -0.10079357  0.52047314]\n",
      " [-0.96399841  0.3941967  -1.37676979  0.41498675]\n",
      " [-0.96399841  0.3355584  -0.2574924   0.45014888]\n",
      " [-0.96399841 -1.13039894 -1.37676979 -0.92820655]\n",
      " [ 1.03734611 -1.13039894 -0.32464904  0.45718131]\n",
      " [-0.96399841 -1.13039894 -1.37676979 -0.93523898]\n",
      " [-0.96399841 -0.48537771 -0.2574924   0.17588428]\n",
      " [-0.96399841 -0.6026543  -0.2127213   0.06336547]\n",
      " [ 1.03734611 -0.544016   -0.2574924  -0.30935309]\n",
      " [ 1.03734611 -0.42673941  0.05590527  0.23917611]\n",
      " [-0.96399841 -0.48537771  0.07829082  0.13368973]\n",
      " [ 1.03734611 -0.71993088 -0.2574924   0.07039789]\n",
      " [ 1.03734611 -0.83720747 -0.2127213   0.01413849]\n",
      " [-0.96399841 -0.6026543  -0.43657678  0.90725655]\n",
      " [ 1.03734611 -1.01312235 -0.45896233 -1.75100036]\n",
      " [-0.96399841 -1.01312235 -1.04098657 -1.57518972]\n",
      " [ 1.03734611  0.3355584  -0.19033576 -0.21089913]\n",
      " [ 1.03734611  0.3355584  -0.2574924   0.16885185]\n",
      " [ 1.03734611  0.27692011 -0.48134788  0.02117092]\n",
      " [-0.96399841  0.21828182 -0.43657678  0.22511126]\n",
      " [-0.96399841 -0.13354795 -0.92905883 -0.30935309]\n",
      " [ 1.03734611  1.50832428  1.01848382  1.54017487]\n",
      " [-0.96399841  0.04236693 -0.92905883  0.07039789]\n",
      " [ 1.03734611 -0.36810112 -0.01125137 -0.11244517]\n",
      " [ 1.03734611 -0.48537771 -0.34703459 -0.24606126]\n",
      " [-0.96399841 -1.24767553 -0.3022635  -1.23763329]\n",
      " [ 1.03734611 -0.42673941  2.16014676 -0.33045037]\n",
      " [-0.96399841 -1.36495211 -1.37676979 -1.55409244]\n",
      " [ 1.03734611 -0.6026543   1.51096587 -0.28825582]\n",
      " [-0.96399841  0.68738816  1.13041156  0.97758081]\n",
      " [-0.96399841  0.10100523 -0.34703459  0.07039789]\n",
      " [-0.96399841 -0.30946283 -0.2127213  -0.14057488]\n",
      " [-0.96399841  0.3355584  -0.45896233  0.17588428]\n",
      " [-0.96399841 -0.19218624 -1.04098657 -0.37264492]\n",
      " [-0.96399841 -1.01312235 -1.1976854  -1.75803279]\n",
      " [-0.96399841  1.62560086  1.69005025  1.61753155]\n",
      " [ 1.03734611  1.62560086  1.30949594  1.44875333]\n",
      " [-0.96399841  1.56696257  1.42142368  1.46281818]\n",
      " [-0.96399841  1.50832428  0.97371273  1.52611001]\n",
      " [ 1.03734611  1.44968598  1.37665258  1.61753155]\n",
      " [ 1.03734611 -0.48537771  0.36930294  1.50501274]\n",
      " [-0.96399841  1.03921793  0.86178499  1.27294269]\n",
      " [ 1.03734611  0.92194134  1.10802601  0.67518651]\n",
      " [ 1.03734611  0.92194134  0.99609827  1.26591026]\n",
      " [ 1.03734611  0.80466475  1.21995375  0.81583502]\n",
      " [ 1.03734611  0.62874987  0.86178499  0.85802957]\n",
      " [ 1.03734611  0.57011158  0.57077287  0.71034863]\n",
      " [ 1.03734611  0.51147328  0.63792951  0.78067289]\n",
      " [-0.96399841  0.51147328  1.30949594  0.72441349]\n",
      " [-0.96399841  0.80466475  0.83939944  0.67518651]\n",
      " [-0.96399841  0.80466475  0.63792951  0.88615928]\n",
      " [ 1.03734611  0.45283499  0.34691739  0.85099715]\n",
      " [ 1.03734611  0.45283499  0.74985725  0.47827859]\n",
      " [-0.96399841  0.21828182  0.36930294  0.30246794]\n",
      " [ 1.03734611  0.15964352  0.32453184  0.20401398]\n",
      " [-0.96399841  0.21828182  0.63792951  0.45014888]\n",
      " [ 1.03734611  0.04236693  0.10067636  0.17588428]\n",
      " [-0.96399841 -0.19218624  0.10067636  0.16885185]\n",
      " [-0.96399841 -0.30946283  0.01113417 -0.22496398]\n",
      " [ 1.03734611 -0.36810112 -0.14556466 -0.30232067]\n",
      " [-0.96399841 -0.48537771  0.10067636 -0.23902884]\n",
      " [ 1.03734611  1.62560086 -0.61566116 -0.886012  ]\n",
      " [-0.96399841 -0.6026543  -0.10079357 -0.40077463]\n",
      " [-0.96399841 -0.95448406  0.66031506 -0.99853081]\n",
      " [ 1.03734611 -1.01312235  0.45884513 -0.73129863]\n",
      " [ 1.03734611 -1.36495211 -0.86190219 -1.61035185]\n",
      " [ 1.03734611 -1.4822287  -1.26484205 -1.75100036]\n",
      " [-0.96399841 -1.4822287  -1.35438424 -1.82132462]\n",
      " [-0.96399841 -1.54086699 -1.55585417 -1.94087586]\n",
      " [-0.96399841 -1.65814358 -1.73493855 -0.75239591]\n",
      " [-0.96399841 -1.01312235 -1.10814321 -1.8986813 ]\n",
      " [-0.96399841 -0.83720747 -0.2574924   0.53453799]\n",
      " [-0.96399841 -0.95448406 -0.52611897 -0.41483948]\n",
      " [ 1.03734611  0.98057963  1.17518266  1.62456397]\n",
      " [-0.96399841 -0.36810112 -0.36942014  0.10556002]\n",
      " [-0.96399841  0.3941967   0.59315841  0.47827859]\n",
      " [-0.96399841  0.27692011  0.05590527  0.45718131]\n",
      " [ 1.03734611  0.45283499  0.27976075  0.47124616]\n",
      " [-0.96399841 -0.30946283 -0.03363692  0.4009219 ]\n",
      " [ 1.03734611  1.39104769  3.2122675   1.12526175]\n",
      " [ 1.03734611 -1.54086699 -1.22007095 -1.58925457]\n",
      " [-0.96399841  0.80466475  0.88417053  2.03947709]\n",
      " [ 1.03734611 -0.89584576 -0.2574924   0.84396472]\n",
      " [ 1.03734611  1.44968598  1.08564046 -0.46406646]\n",
      " [ 1.03734611  1.44968598  1.21995375  1.58940185]\n",
      " [ 1.03734611 -0.30946283 -0.07840802  1.68082338]\n",
      " [ 1.03734611  0.57011158  1.21995375  0.16885185]\n",
      " [-0.96399841 -1.24767553 -1.44392643 -1.17434145]\n",
      " [-0.96399841 -1.13039894 -0.36942014 -1.03369294]\n",
      " [ 1.03734611 -1.36495211 -1.37676979  0.41498675]\n",
      " [-0.96399841  1.3324094   0.90655608 -1.1602766 ]\n",
      " [ 1.03734611 -0.6026543   0.01113417  1.54017487]\n",
      " [-0.96399841  0.86330305  1.37665258  0.04930062]\n",
      " [-0.96399841  1.56696257  1.37665258  0.38685705]\n",
      " [ 1.03734611 -0.83720747 -0.03363692  1.22371571]\n",
      " [ 1.03734611  1.09785622  0.86178499  0.08446275]\n",
      " [-0.96399841 -0.48537771 -0.19033576 -0.25309369]\n",
      " [-0.96399841 -1.24767553 -0.92905883 -1.15324418]\n",
      " [-0.96399841 -1.07176064 -1.15291431 -0.92820655]\n",
      " [-0.96399841 -1.71678187 -1.82448074 -1.91977858]\n",
      " [-0.96399841 -1.71678187 -1.89163738 -2.23623773]\n",
      " [ 1.03734611 -1.83405846 -1.93640848 -2.27843229]\n",
      " [-0.96399841 -1.83405846 -1.95879403 -2.4190808 ]\n",
      " [-0.96399841 -1.83405846 -1.82448074 -2.34875655]]\n"
     ]
    }
   ],
   "source": [
    "print(standarized_data)"
   ]
  },
  {
   "cell_type": "code",
   "execution_count": 404,
   "id": "a107244e",
   "metadata": {},
   "outputs": [],
   "source": [
    "X = standarized_data\n",
    "y = df['Stunting']"
   ]
  },
  {
   "cell_type": "code",
   "execution_count": 405,
   "id": "88af136a",
   "metadata": {},
   "outputs": [],
   "source": [
    "from sklearn.model_selection import train_test_split \n",
    "from sklearn.metrics import accuracy_score,confusion_matrix, classification_report "
   ]
  },
  {
   "cell_type": "markdown",
   "id": "a2c152d9",
   "metadata": {},
   "source": [
    "# Naive Bayes"
   ]
  },
  {
   "cell_type": "code",
   "execution_count": 406,
   "id": "cc6e05e6",
   "metadata": {},
   "outputs": [],
   "source": [
    "from sklearn.naive_bayes import GaussianNB\n",
    "classifier = GaussianNB()\n",
    "X_train2, X_test2, y_train2, y_test2 = train_test_split(X, y, test_size=0.2, random_state=10)"
   ]
  },
  {
   "cell_type": "code",
   "execution_count": 407,
   "id": "f2fcd641",
   "metadata": {},
   "outputs": [],
   "source": [
    "classifier = classifier.fit(X_train2, y_train2)"
   ]
  },
  {
   "cell_type": "code",
   "execution_count": 408,
   "id": "d89e2340",
   "metadata": {},
   "outputs": [],
   "source": [
    "predicted = classifier.predict(X_test2)"
   ]
  },
  {
   "cell_type": "code",
   "execution_count": 409,
   "id": "a15de0fa",
   "metadata": {},
   "outputs": [
    {
     "name": "stdout",
     "output_type": "stream",
     "text": [
      "1.0\n"
     ]
    }
   ],
   "source": [
    "print(classifier.score(X_test2, y_test2))"
   ]
  },
  {
   "cell_type": "code",
   "execution_count": 410,
   "id": "1bdc3da1",
   "metadata": {},
   "outputs": [
    {
     "name": "stdout",
     "output_type": "stream",
     "text": [
      "1.0\n"
     ]
    }
   ],
   "source": [
    "y_true = y_test2\n",
    "y_pred2 = predicted\n",
    "print(accuracy_score(y_true, y_pred2))"
   ]
  },
  {
   "cell_type": "code",
   "execution_count": 411,
   "id": "5bac0223",
   "metadata": {},
   "outputs": [
    {
     "name": "stdout",
     "output_type": "stream",
     "text": [
      "[[38  0]\n",
      " [ 0  1]]\n",
      "              precision    recall  f1-score   support\n",
      "\n",
      "         2.0       1.00      1.00      1.00        38\n",
      "         3.0       1.00      1.00      1.00         1\n",
      "\n",
      "    accuracy                           1.00        39\n",
      "   macro avg       1.00      1.00      1.00        39\n",
      "weighted avg       1.00      1.00      1.00        39\n",
      "\n"
     ]
    }
   ],
   "source": [
    "print(confusion_matrix(y_test2, y_pred2))\n",
    "print(classification_report(y_test2, y_pred2))"
   ]
  },
  {
   "cell_type": "markdown",
   "id": "b7497a9d",
   "metadata": {},
   "source": [
    "#  KNN\n"
   ]
  },
  {
   "cell_type": "code",
   "execution_count": 412,
   "id": "b7f4a295",
   "metadata": {},
   "outputs": [],
   "source": [
    "from sklearn.neighbors import KNeighborsClassifier"
   ]
  },
  {
   "cell_type": "code",
   "execution_count": 413,
   "id": "8633a6bb",
   "metadata": {},
   "outputs": [],
   "source": [
    "X_train3, X_test3, y_train3, y_test3 = train_test_split(X, y, test_size=0.2, random_state=10)\n"
   ]
  },
  {
   "cell_type": "code",
   "execution_count": 414,
   "id": "0250b7bc",
   "metadata": {},
   "outputs": [],
   "source": [
    "knn=KNeighborsClassifier(n_neighbors=2)\n"
   ]
  },
  {
   "cell_type": "code",
   "execution_count": 415,
   "id": "da4a4328",
   "metadata": {},
   "outputs": [
    {
     "data": {
      "text/html": [
       "<style>#sk-container-id-9 {color: black;background-color: white;}#sk-container-id-9 pre{padding: 0;}#sk-container-id-9 div.sk-toggleable {background-color: white;}#sk-container-id-9 label.sk-toggleable__label {cursor: pointer;display: block;width: 100%;margin-bottom: 0;padding: 0.3em;box-sizing: border-box;text-align: center;}#sk-container-id-9 label.sk-toggleable__label-arrow:before {content: \"▸\";float: left;margin-right: 0.25em;color: #696969;}#sk-container-id-9 label.sk-toggleable__label-arrow:hover:before {color: black;}#sk-container-id-9 div.sk-estimator:hover label.sk-toggleable__label-arrow:before {color: black;}#sk-container-id-9 div.sk-toggleable__content {max-height: 0;max-width: 0;overflow: hidden;text-align: left;background-color: #f0f8ff;}#sk-container-id-9 div.sk-toggleable__content pre {margin: 0.2em;color: black;border-radius: 0.25em;background-color: #f0f8ff;}#sk-container-id-9 input.sk-toggleable__control:checked~div.sk-toggleable__content {max-height: 200px;max-width: 100%;overflow: auto;}#sk-container-id-9 input.sk-toggleable__control:checked~label.sk-toggleable__label-arrow:before {content: \"▾\";}#sk-container-id-9 div.sk-estimator input.sk-toggleable__control:checked~label.sk-toggleable__label {background-color: #d4ebff;}#sk-container-id-9 div.sk-label input.sk-toggleable__control:checked~label.sk-toggleable__label {background-color: #d4ebff;}#sk-container-id-9 input.sk-hidden--visually {border: 0;clip: rect(1px 1px 1px 1px);clip: rect(1px, 1px, 1px, 1px);height: 1px;margin: -1px;overflow: hidden;padding: 0;position: absolute;width: 1px;}#sk-container-id-9 div.sk-estimator {font-family: monospace;background-color: #f0f8ff;border: 1px dotted black;border-radius: 0.25em;box-sizing: border-box;margin-bottom: 0.5em;}#sk-container-id-9 div.sk-estimator:hover {background-color: #d4ebff;}#sk-container-id-9 div.sk-parallel-item::after {content: \"\";width: 100%;border-bottom: 1px solid gray;flex-grow: 1;}#sk-container-id-9 div.sk-label:hover label.sk-toggleable__label {background-color: #d4ebff;}#sk-container-id-9 div.sk-serial::before {content: \"\";position: absolute;border-left: 1px solid gray;box-sizing: border-box;top: 0;bottom: 0;left: 50%;z-index: 0;}#sk-container-id-9 div.sk-serial {display: flex;flex-direction: column;align-items: center;background-color: white;padding-right: 0.2em;padding-left: 0.2em;position: relative;}#sk-container-id-9 div.sk-item {position: relative;z-index: 1;}#sk-container-id-9 div.sk-parallel {display: flex;align-items: stretch;justify-content: center;background-color: white;position: relative;}#sk-container-id-9 div.sk-item::before, #sk-container-id-9 div.sk-parallel-item::before {content: \"\";position: absolute;border-left: 1px solid gray;box-sizing: border-box;top: 0;bottom: 0;left: 50%;z-index: -1;}#sk-container-id-9 div.sk-parallel-item {display: flex;flex-direction: column;z-index: 1;position: relative;background-color: white;}#sk-container-id-9 div.sk-parallel-item:first-child::after {align-self: flex-end;width: 50%;}#sk-container-id-9 div.sk-parallel-item:last-child::after {align-self: flex-start;width: 50%;}#sk-container-id-9 div.sk-parallel-item:only-child::after {width: 0;}#sk-container-id-9 div.sk-dashed-wrapped {border: 1px dashed gray;margin: 0 0.4em 0.5em 0.4em;box-sizing: border-box;padding-bottom: 0.4em;background-color: white;}#sk-container-id-9 div.sk-label label {font-family: monospace;font-weight: bold;display: inline-block;line-height: 1.2em;}#sk-container-id-9 div.sk-label-container {text-align: center;}#sk-container-id-9 div.sk-container {/* jupyter's `normalize.less` sets `[hidden] { display: none; }` but bootstrap.min.css set `[hidden] { display: none !important; }` so we also need the `!important` here to be able to override the default hidden behavior on the sphinx rendered scikit-learn.org. See: https://github.com/scikit-learn/scikit-learn/issues/21755 */display: inline-block !important;position: relative;}#sk-container-id-9 div.sk-text-repr-fallback {display: none;}</style><div id=\"sk-container-id-9\" class=\"sk-top-container\"><div class=\"sk-text-repr-fallback\"><pre>KNeighborsClassifier(n_neighbors=2)</pre><b>In a Jupyter environment, please rerun this cell to show the HTML representation or trust the notebook. <br />On GitHub, the HTML representation is unable to render, please try loading this page with nbviewer.org.</b></div><div class=\"sk-container\" hidden><div class=\"sk-item\"><div class=\"sk-estimator sk-toggleable\"><input class=\"sk-toggleable__control sk-hidden--visually\" id=\"sk-estimator-id-9\" type=\"checkbox\" checked><label for=\"sk-estimator-id-9\" class=\"sk-toggleable__label sk-toggleable__label-arrow\">KNeighborsClassifier</label><div class=\"sk-toggleable__content\"><pre>KNeighborsClassifier(n_neighbors=2)</pre></div></div></div></div></div>"
      ],
      "text/plain": [
       "KNeighborsClassifier(n_neighbors=2)"
      ]
     },
     "execution_count": 415,
     "metadata": {},
     "output_type": "execute_result"
    }
   ],
   "source": [
    "knn.fit(X_train3,y_train3)\n"
   ]
  },
  {
   "cell_type": "code",
   "execution_count": 416,
   "id": "10659240",
   "metadata": {},
   "outputs": [
    {
     "data": {
      "text/plain": [
       "0.9743589743589743"
      ]
     },
     "execution_count": 416,
     "metadata": {},
     "output_type": "execute_result"
    }
   ],
   "source": [
    "knn.score(X_test3,y_test3)\n"
   ]
  },
  {
   "cell_type": "code",
   "execution_count": 417,
   "id": "18e99cb4",
   "metadata": {},
   "outputs": [
    {
     "name": "stdout",
     "output_type": "stream",
     "text": [
      "[[38  0]\n",
      " [ 1  0]]\n",
      "              precision    recall  f1-score   support\n",
      "\n",
      "         2.0       0.97      1.00      0.99        38\n",
      "         3.0       0.00      0.00      0.00         1\n",
      "\n",
      "    accuracy                           0.97        39\n",
      "   macro avg       0.49      0.50      0.49        39\n",
      "weighted avg       0.95      0.97      0.96        39\n",
      "\n"
     ]
    },
    {
     "name": "stderr",
     "output_type": "stream",
     "text": [
      "C:\\Users\\PERSONAL\\AppData\\Local\\Programs\\Python\\Python310\\lib\\site-packages\\sklearn\\metrics\\_classification.py:1334: UndefinedMetricWarning: Precision and F-score are ill-defined and being set to 0.0 in labels with no predicted samples. Use `zero_division` parameter to control this behavior.\n",
      "  _warn_prf(average, modifier, msg_start, len(result))\n",
      "C:\\Users\\PERSONAL\\AppData\\Local\\Programs\\Python\\Python310\\lib\\site-packages\\sklearn\\metrics\\_classification.py:1334: UndefinedMetricWarning: Precision and F-score are ill-defined and being set to 0.0 in labels with no predicted samples. Use `zero_division` parameter to control this behavior.\n",
      "  _warn_prf(average, modifier, msg_start, len(result))\n",
      "C:\\Users\\PERSONAL\\AppData\\Local\\Programs\\Python\\Python310\\lib\\site-packages\\sklearn\\metrics\\_classification.py:1334: UndefinedMetricWarning: Precision and F-score are ill-defined and being set to 0.0 in labels with no predicted samples. Use `zero_division` parameter to control this behavior.\n",
      "  _warn_prf(average, modifier, msg_start, len(result))\n"
     ]
    }
   ],
   "source": [
    "y_pred3 = knn.predict(X_test3)\n",
    "print(confusion_matrix(y_test3, y_pred3))\n",
    "print(classification_report(y_test3, y_pred3))"
   ]
  },
  {
   "cell_type": "code",
   "execution_count": 418,
   "id": "92bb342f",
   "metadata": {},
   "outputs": [],
   "source": [
    "import pickle"
   ]
  },
  {
   "cell_type": "code",
   "execution_count": 419,
   "id": "4ca3ddd9",
   "metadata": {},
   "outputs": [],
   "source": [
    "filename = 'data_balita.sav'\n",
    "pickle.dump(classifier, open(filename,'wb'))"
   ]
  },
  {
   "cell_type": "code",
   "execution_count": null,
   "id": "580e3799",
   "metadata": {},
   "outputs": [],
   "source": []
  }
 ],
 "metadata": {
  "kernelspec": {
   "display_name": "Python 3 (ipykernel)",
   "language": "python",
   "name": "python3"
  },
  "language_info": {
   "codemirror_mode": {
    "name": "ipython",
    "version": 3
   },
   "file_extension": ".py",
   "mimetype": "text/x-python",
   "name": "python",
   "nbconvert_exporter": "python",
   "pygments_lexer": "ipython3",
   "version": "3.10.6"
  }
 },
 "nbformat": 4,
 "nbformat_minor": 5
}
